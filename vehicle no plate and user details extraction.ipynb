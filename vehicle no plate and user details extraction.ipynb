{
 "cells": [
  {
   "cell_type": "code",
   "execution_count": null,
   "metadata": {},
   "outputs": [],
   "source": [
    "%matplotlib inline\n",
    "import cv2\n",
    "import matplotlib.pyplot as plt\n",
    "import matplotlib.image as mpimg\n",
    "img=mpimg.imread('bike10.jpg')\n",
    "gray = cv2.cvtColor(img, cv2.COLOR_BGR2GRAY)\n",
    "gray = cv2.resize(255-gray, (256, 256))\n",
    "gray = gray/255\n",
    "plt.imshow(img)\n",
    "# plt.imshow(gray, cmap=plt.get_cmap('gray'))\n",
    "plt.show()"
   ]
  },
  {
   "cell_type": "code",
   "execution_count": null,
   "metadata": {},
   "outputs": [],
   "source": [
    "import pytesseract\n",
    "text=pytesseract.image_to_string(img)\n",
    "print(text)"
   ]
  },
  {
   "cell_type": "code",
   "execution_count": null,
   "metadata": {},
   "outputs": [],
   "source": [
    "#for cars\n",
    "%matplotlib inline\n",
    "import cv2\n",
    "from PIL import Image\n",
    "import matplotlib.pyplot as plt\n",
    "img=Image.open('car1.jpg')\n",
    "x1,y1,x2,y2=41,108,195,140\n",
    "crop_img=img.crop((x1,y1,x2,y2))\n",
    "crop_img.save(\"tmp.jpg\")\n",
    "imgNew=mpimg.imread('tmp.jpg')\n",
    "gray = cv2.cvtColor(imgNew, cv2.COLOR_BGR2GRAY)\n",
    "gray = cv2.resize(255-gray, (256, 256))\n",
    "gray = gray/255\n",
    "plt.imshow(imgNew)\n",
    "plt.show()"
   ]
  },
  {
   "cell_type": "code",
   "execution_count": null,
   "metadata": {},
   "outputs": [],
   "source": [
    "#for cars\n",
    "%matplotlib inline\n",
    "import cv2\n",
    "from PIL import Image\n",
    "import matplotlib.pyplot as plt\n",
    "img=Image.open('bike1.jpg')\n",
    "x1,y1,x2,y2=82,86,161,125\n",
    "crop_img=img.crop((x1,y1,x2,y2))\n",
    "crop_img.save(\"tmp.jpg\")\n",
    "imgNew=mpimg.imread('tmp.jpg')\n",
    "gray = cv2.cvtColor(imgNew, cv2.COLOR_BGR2GRAY)\n",
    "gray = cv2.resize(255-gray, (256, 256))\n",
    "gray = gray/255\n",
    "plt.imshow(imgNew)\n",
    "plt.show()"
   ]
  },
  {
   "cell_type": "code",
   "execution_count": null,
   "metadata": {},
   "outputs": [],
   "source": [
    "import re\n",
    "vehicle_no=re.sub('[^A-Za-z0-9]+', '', text)"
   ]
  },
  {
   "cell_type": "code",
   "execution_count": null,
   "metadata": {},
   "outputs": [],
   "source": [
    "print(vehicle_no)"
   ]
  },
  {
   "cell_type": "code",
   "execution_count": null,
   "metadata": {},
   "outputs": [],
   "source": [
    "# s=\"DL3C AM 0857SS SSS oe\"\n",
    "# se=re.compile(r\"[A-Z]{2}\\s[0-9|\\s]{1,2}\\s[A-Z|\\s]{1,2}\\s[0-9]{1,4}\")\n",
    "# m=se.search(se.decode('utf-8'), s.decode('utf-8'), re.I | re.U)\n",
    "# print(type(m))"
   ]
  },
  {
   "cell_type": "code",
   "execution_count": null,
   "metadata": {},
   "outputs": [],
   "source": [
    "from flask import Flask, request\n",
    "import requests, json\n",
    "\n",
    "app = Flask(__name__)\n",
    "\n",
    "\n",
    "@app.route('/')\n",
    "def success():\n",
    "   return 'Link Not Available'\n",
    "\n",
    "\n",
    "@app.route('/getdatafromrcapi/<rc_number>')\n",
    "def getdatafromrcapi(rc_number):\n",
    "    if request.method == 'GET':\n",
    "        data = {\"id_number\": rc_number}\n",
    "        header = {'Authorization': 'Bearer key'}\n",
    "        url = \"https://sandbox.aadhaarapi.io/api/v1/rc/rc\"\n",
    "        req = requests.post(url=url, json=data, headers=header)\n",
    "        content = dict(req.json()['data'])\n",
    "        response = app.response_class(\n",
    "            response=json.dumps(content),\n",
    "            status=200,\n",
    "            mimetype='application/json'\n",
    "        )\n",
    "        return response\n",
    "    elif request.method == 'POST':\n",
    "        return 'Illegal Method'\n",
    "\n",
    "\n",
    "if __name__ == '__main__':\n",
    "    app.run()\n",
    "#     app.run(host='0.0.0.0', port=5000, debug = False)"
   ]
  }
 ],
 "metadata": {
  "kernelspec": {
   "display_name": "Python 3",
   "language": "python",
   "name": "python3"
  },
  "language_info": {
   "codemirror_mode": {
    "name": "ipython",
    "version": 3
   },
   "file_extension": ".py",
   "mimetype": "text/x-python",
   "name": "python",
   "nbconvert_exporter": "python",
   "pygments_lexer": "ipython3",
   "version": "3.7.3"
  }
 },
 "nbformat": 4,
 "nbformat_minor": 2
}
